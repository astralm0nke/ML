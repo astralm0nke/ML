{
 "cells": [
  {
   "cell_type": "markdown",
   "id": "6d8be719",
   "metadata": {},
   "source": [
    "# Citation:\n",
    "@misc{fake-news,\n",
    "    author = {William Lifferth},\n",
    "    title = {Fake News},\n",
    "    publisher = {Kaggle},\n",
    "    year = {2018},\n",
    "    url = {https://kaggle.com/competitions/fake-news}\n",
    "}"
   ]
  },
  {
   "cell_type": "code",
   "execution_count": null,
   "id": "7c5b6504",
   "metadata": {},
   "outputs": [],
   "source": [
    "import pandas as pd\n",
    "import numpy as np\n",
    "import matplotlib.pyplot as plt\n",
    "from sklearn.model_selection import train_test_split"
   ]
  },
  {
   "cell_type": "markdown",
   "id": "9b16a6c4",
   "metadata": {},
   "source": [
    "## Data Cleaning & Exploration"
   ]
  },
  {
   "cell_type": "code",
   "execution_count": null,
   "id": "765d5d02",
   "metadata": {},
   "outputs": [],
   "source": [
    "traindF = pd.read_csv('/Users/finneassensiba/pystuff/Github_Repos/ML/Fake_News_ID/news_data/train.csv')\n",
    "testdF = pd.read_csv('/Users/finneassensiba/pystuff/Github_Repos/ML/Fake_News_ID/news_data/test.csv')"
   ]
  },
  {
   "cell_type": "code",
   "execution_count": null,
   "id": "21aa6ead",
   "metadata": {},
   "outputs": [],
   "source": [
    "traindF.head()"
   ]
  },
  {
   "cell_type": "code",
   "execution_count": null,
   "id": "00a79fdc",
   "metadata": {},
   "outputs": [],
   "source": [
    "traindF.shape"
   ]
  },
  {
   "cell_type": "code",
   "execution_count": null,
   "id": "deb4d70d",
   "metadata": {},
   "outputs": [],
   "source": [
    "testdF.head()"
   ]
  },
  {
   "cell_type": "code",
   "execution_count": null,
   "id": "096bbf81",
   "metadata": {},
   "outputs": [],
   "source": [
    "testdF.shape"
   ]
  },
  {
   "cell_type": "code",
   "execution_count": null,
   "id": "e637494f",
   "metadata": {},
   "outputs": [],
   "source": [
    "traindF.isna().sum()"
   ]
  },
  {
   "cell_type": "code",
   "execution_count": null,
   "id": "36a135e3",
   "metadata": {},
   "outputs": [],
   "source": [
    "testdF.isna().sum()"
   ]
  },
  {
   "cell_type": "code",
   "execution_count": null,
   "id": "086453e4",
   "metadata": {},
   "outputs": [],
   "source": [
    "testdF.dropna(inplace=True)"
   ]
  },
  {
   "cell_type": "code",
   "execution_count": null,
   "id": "2277db26",
   "metadata": {},
   "outputs": [],
   "source": [
    "traindF.dropna(inplace=True)"
   ]
  },
  {
   "cell_type": "markdown",
   "id": "e383f9da",
   "metadata": {},
   "source": [
    "## Train Data Histogram Analysis\n",
    "Differentiating Variables in training data?"
   ]
  },
  {
   "cell_type": "code",
   "execution_count": null,
   "id": "48d3675f",
   "metadata": {},
   "outputs": [],
   "source": [
    "plt.hist(traindF[traindF['label'] == 0]['author'], bins=100, alpha=0.7)\n",
    "plt.hist(traindF[traindF['label'] == 1]['author'], bins=100, alpha=0.7)\n",
    "plt.show()"
   ]
  }
 ],
 "metadata": {
  "kernelspec": {
   "display_name": "Python 3 (ipykernel)",
   "language": "python",
   "name": "python3"
  },
  "language_info": {
   "codemirror_mode": {
    "name": "ipython",
    "version": 3
   },
   "file_extension": ".py",
   "mimetype": "text/x-python",
   "name": "python",
   "nbconvert_exporter": "python",
   "pygments_lexer": "ipython3",
   "version": "3.7.16"
  }
 },
 "nbformat": 4,
 "nbformat_minor": 5
}
